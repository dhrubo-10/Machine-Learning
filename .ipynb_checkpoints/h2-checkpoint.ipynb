{
 "cells": [
  {
   "cell_type": "code",
   "execution_count": 2,
   "id": "5eb29e30-0b87-4bec-9066-39ba7a2dd6a6",
   "metadata": {},
   "outputs": [
    {
     "name": "stderr",
     "output_type": "stream",
     "text": [
      "/home/dhrubo/anaconda3/envs/ml/lib/python3.10/site-packages/sklearn/utils/validation.py:2749: UserWarning: X does not have valid feature names, but DecisionTreeClassifier was fitted with feature names\n",
      "  warnings.warn(\n"
     ]
    },
    {
     "data": {
      "text/plain": [
       "array(['HipHop'], dtype=object)"
      ]
     },
     "execution_count": 2,
     "metadata": {},
     "output_type": "execute_result"
    }
   ],
   "source": [
    "import pandas as pd \n",
    "from sklearn.tree import DecisionTreeClassifier \n",
    "import joblib\n",
    "\n",
    "# df = pd.read_csv('music.csv')\n",
    "# X = df.drop(columns=['genre'])\n",
    "# Y = df['genre']\n",
    "\n",
    "# model = DecisionTreeClassifier()\n",
    "model.fit(X, Y)\n",
    "# another way to train a model\n",
    "model = joblib.load('music-recommender.joblib') \n",
    "pred = model.predict([[21,1]]) \n",
    "pred"
   ]
  }
 ],
 "metadata": {
  "kernelspec": {
   "display_name": "Python 3 (ipykernel)",
   "language": "python",
   "name": "python3"
  },
  "language_info": {
   "codemirror_mode": {
    "name": "ipython",
    "version": 3
   },
   "file_extension": ".py",
   "mimetype": "text/x-python",
   "name": "python",
   "nbconvert_exporter": "python",
   "pygments_lexer": "ipython3",
   "version": "3.10.18"
  }
 },
 "nbformat": 4,
 "nbformat_minor": 5
}
